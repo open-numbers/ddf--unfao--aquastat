{
 "cells": [
  {
   "cell_type": "code",
   "execution_count": 9,
   "id": "62d766c2",
   "metadata": {},
   "outputs": [],
   "source": [
    "import pandas as pd\n",
    "import requests\n",
    "from ddf_utils.factory.common import download, requests_retry_session"
   ]
  },
  {
   "cell_type": "code",
   "execution_count": 4,
   "id": "e8b904d5",
   "metadata": {},
   "outputs": [],
   "source": [
    "frontpage = \"https://www.fao.org/aquastat/statistics/query/index.html\"\n",
    "endpoint = \"https://www.fao.org/aquastat/statistics/query/results.html\"\n",
    "csv_endpoint = \"https://www.fao.org/aquastat/statistics/query/results.html?csv=2\""
   ]
  },
  {
   "cell_type": "code",
   "execution_count": 5,
   "id": "568a9e96",
   "metadata": {},
   "outputs": [],
   "source": [
    "cntids = [4,8,12,20,24,28,31,32,36,40,44,48,50,51,52,56,\n",
    "               64,68,70,72,76,84,90,96,100,104,108,112,116,120,\n",
    "               124,132,140,144,148,152,156,170,174,178,180,184,\n",
    "               188,191,192,196,203,204,208,212,214,218,222,226,\n",
    "               231,232,233,234,242,246,250,262,266,268,270,275,\n",
    "               276,288,296,300,308,320,324,328,332,336,340,348,\n",
    "               352,356,360,364,368,372,376,380,384,388,392,398,\n",
    "               400,404,408,410,414,417,418,422,426,428,430,434,\n",
    "               438,440,442,450,454,458,462,466,470,478,480,484,\n",
    "               492,496,498,499,504,508,512,516,520,524,528,548,\n",
    "               554,558,562,566,570,578,583,584,585,586,591,598,\n",
    "               600,604,608,616,620,624,626,630,634,642,643,646,\n",
    "               659,662,670,674,678,682,686,688,690,694,702,703,\n",
    "               704,705,706,710,716,724,728,729,740,748,752,756,\n",
    "               760,762,764,768,772,776,780,784,788,792,795,798,\n",
    "               800,804,807,818,826,834,840,854,858,860,862,882,887,894]\n",
    "\n",
    "varGrps = [\n",
    "    4100,4101,4102,4103,4104,4105,4106,4107,4111,4112,4113,4114,4115,4116,\n",
    "    4150,4151,4154,4155,4156,4157,4158,4159,4160,4161,4162,4164,4165,4168,\n",
    "    4171,4172,4173,4174,4176,4177,4178,4182,4185,4187,4188,4190,4192,4193,\n",
    "    4194,4195,4196,4197,4250,4251,4252,4253,4254,4255,4256,4257,4260,4261,\n",
    "    4262,4263,4264,4265,4269,4270,4273,4275,4300,4303,4304,4305,4307,4308,\n",
    "    4309,4310,4311,4312,4313,4314,4315,4316,4317,4318,4319,4320,4321,4322,\n",
    "    4323,4324,4325,4326,4327,4328,4329,4330,4331,4345,4346,4347,4348,4349,\n",
    "    4350,4351,4352,4353,4354,4355,4356,4357,4358,4359,4360,4361,4362,4363,\n",
    "    4364,4365,4366,4367,4368,4369,4370,4371,4372,4373,4374,4375,4376,4377,\n",
    "    4378,4379,4400,4401,4403,4445,4446,4451,4452,4453,4458,4461,4463,4464,\n",
    "    4465,4466,4469,4470,4471,4472,4473,4474,4475,4490,4491,4493,4509,4510,\n",
    "    4512,4513,4514,4515,4516,4517,4520,4521,4522,4523,4524,4525,4526,4527,\n",
    "    4533,4534,4535,4536,4537,4539,4540,4541,4542,4543,4544,4545,4546,4547,\n",
    "    4548,4549,4550,4551,4552,4553,4554,4555,4556,4557,4558\n",
    "]"
   ]
  },
  {
   "cell_type": "code",
   "execution_count": 6,
   "id": "63c79db8",
   "metadata": {},
   "outputs": [],
   "source": [
    "post_data = {\n",
    "    'regionQuery': 'false',\n",
    "    'yearGrouping': \"SURVEY\",\n",
    "    'showCodes': 'true',\n",
    "    'yearRange.fromYear': 1958,\n",
    "    'yearRange.toYear': 2022,\n",
    "    'cntIds': ','.join(map(str, cntids)),\n",
    "    'regIds': '',\n",
    "    'edit': 0,\n",
    "    'save': 0,\n",
    "    'query_type': 'querypage',\n",
    "    'lowBandwidth': 1,\n",
    "    '_newestOnly': 'on',\n",
    "    'showValueYears': 'true',\n",
    "    '_showValueYears': 'on',\n",
    "    'XAxis': 'YEAR',\n",
    "    'YAxis': 'AREA',\n",
    "    'showSymbols': 'true',\n",
    "    '_showSymbols': 'on',\n",
    "    '_hideEmptyRowsColumns': 'on'\n",
    "}"
   ]
  },
  {
   "cell_type": "code",
   "execution_count": null,
   "id": "14be847b",
   "metadata": {},
   "outputs": [],
   "source": []
  },
  {
   "cell_type": "code",
   "execution_count": null,
   "id": "fcd20206",
   "metadata": {},
   "outputs": [],
   "source": []
  },
  {
   "cell_type": "code",
   "execution_count": null,
   "id": "63d54cc4",
   "metadata": {},
   "outputs": [],
   "source": []
  },
  {
   "cell_type": "code",
   "execution_count": 7,
   "id": "d0dafe13",
   "metadata": {},
   "outputs": [],
   "source": [
    "from io import BytesIO\n",
    "import os"
   ]
  },
  {
   "cell_type": "code",
   "execution_count": 10,
   "id": "a7b70fd0",
   "metadata": {},
   "outputs": [],
   "source": [
    "session = requests_retry_session()"
   ]
  },
  {
   "cell_type": "code",
   "execution_count": 11,
   "id": "c9e1a02d",
   "metadata": {},
   "outputs": [
    {
     "data": {
      "text/plain": [
       "<Response [200]>"
      ]
     },
     "execution_count": 11,
     "metadata": {},
     "output_type": "execute_result"
    }
   ],
   "source": [
    "session.get(frontpage)"
   ]
  },
  {
   "cell_type": "code",
   "execution_count": 12,
   "id": "ed0f1cf1",
   "metadata": {},
   "outputs": [],
   "source": [
    "def download_indicator(code, session):\n",
    "    post_data['varGrpIds'] = str(code)\n",
    "    res = session.post(endpoint, data=post_data)\n",
    "    if res.status_code != 200:\n",
    "        print('POST failed,', res.status_code)\n",
    "        return\n",
    "    res = session.get(csv_endpoint)\n",
    "    if res.status_code != 200:\n",
    "        print('download csv failed,', res.status_code)\n",
    "        return\n",
    "    with open(os.path.join('../source/new/', f'{code}.csv'), 'wb') as f:\n",
    "        f.write(res.content)"
   ]
  },
  {
   "cell_type": "code",
   "execution_count": null,
   "id": "e94f3f9b",
   "metadata": {},
   "outputs": [],
   "source": []
  },
  {
   "cell_type": "code",
   "execution_count": 13,
   "id": "70970925",
   "metadata": {},
   "outputs": [],
   "source": [
    "download_indicator(4100, session)"
   ]
  },
  {
   "cell_type": "code",
   "execution_count": 22,
   "id": "55252375",
   "metadata": {},
   "outputs": [],
   "source": [
    "df = pd.read_csv('../source/new/4100.csv')"
   ]
  },
  {
   "cell_type": "code",
   "execution_count": 23,
   "id": "1329281e",
   "metadata": {},
   "outputs": [
    {
     "data": {
      "text/html": [
       "<div>\n",
       "<style scoped>\n",
       "    .dataframe tbody tr th:only-of-type {\n",
       "        vertical-align: middle;\n",
       "    }\n",
       "\n",
       "    .dataframe tbody tr th {\n",
       "        vertical-align: top;\n",
       "    }\n",
       "\n",
       "    .dataframe thead th {\n",
       "        text-align: right;\n",
       "    }\n",
       "</style>\n",
       "<table border=\"1\" class=\"dataframe\">\n",
       "  <thead>\n",
       "    <tr style=\"text-align: right;\">\n",
       "      <th></th>\n",
       "      <th>index</th>\n",
       "      <th>Area</th>\n",
       "      <th>Area Id</th>\n",
       "      <th>Variable Name</th>\n",
       "      <th>Variable Id</th>\n",
       "      <th>Year</th>\n",
       "      <th>Value</th>\n",
       "      <th>Symbol</th>\n",
       "      <th>Md</th>\n",
       "    </tr>\n",
       "  </thead>\n",
       "  <tbody>\n",
       "    <tr>\n",
       "      <th>0</th>\n",
       "      <td>AFG|Afghanistan</td>\n",
       "      <td>4.0</td>\n",
       "      <td>Total area of the country (excl. coastal water)</td>\n",
       "      <td>4100.0</td>\n",
       "      <td>1962.0</td>\n",
       "      <td>65286.0</td>\n",
       "      <td>X</td>\n",
       "      <td>NaN</td>\n",
       "      <td>6768.0</td>\n",
       "    </tr>\n",
       "    <tr>\n",
       "      <th>1</th>\n",
       "      <td>AFG|Afghanistan</td>\n",
       "      <td>4.0</td>\n",
       "      <td>Total area of the country (excl. coastal water)</td>\n",
       "      <td>4100.0</td>\n",
       "      <td>1967.0</td>\n",
       "      <td>65286.0</td>\n",
       "      <td>X</td>\n",
       "      <td>NaN</td>\n",
       "      <td>6768.0</td>\n",
       "    </tr>\n",
       "    <tr>\n",
       "      <th>2</th>\n",
       "      <td>AFG|Afghanistan</td>\n",
       "      <td>4.0</td>\n",
       "      <td>Total area of the country (excl. coastal water)</td>\n",
       "      <td>4100.0</td>\n",
       "      <td>1972.0</td>\n",
       "      <td>65286.0</td>\n",
       "      <td>X</td>\n",
       "      <td>NaN</td>\n",
       "      <td>6768.0</td>\n",
       "    </tr>\n",
       "    <tr>\n",
       "      <th>3</th>\n",
       "      <td>AFG|Afghanistan</td>\n",
       "      <td>4.0</td>\n",
       "      <td>Total area of the country (excl. coastal water)</td>\n",
       "      <td>4100.0</td>\n",
       "      <td>1977.0</td>\n",
       "      <td>65286.0</td>\n",
       "      <td>X</td>\n",
       "      <td>NaN</td>\n",
       "      <td>6768.0</td>\n",
       "    </tr>\n",
       "    <tr>\n",
       "      <th>4</th>\n",
       "      <td>AFG|Afghanistan</td>\n",
       "      <td>4.0</td>\n",
       "      <td>Total area of the country (excl. coastal water)</td>\n",
       "      <td>4100.0</td>\n",
       "      <td>1982.0</td>\n",
       "      <td>65286.0</td>\n",
       "      <td>X</td>\n",
       "      <td>NaN</td>\n",
       "      <td>6768.0</td>\n",
       "    </tr>\n",
       "    <tr>\n",
       "      <th>...</th>\n",
       "      <td>...</td>\n",
       "      <td>...</td>\n",
       "      <td>...</td>\n",
       "      <td>...</td>\n",
       "      <td>...</td>\n",
       "      <td>...</td>\n",
       "      <td>...</td>\n",
       "      <td>...</td>\n",
       "      <td>...</td>\n",
       "    </tr>\n",
       "    <tr>\n",
       "      <th>2420</th>\n",
       "      <td>-- General</td>\n",
       "      <td>NaN</td>\n",
       "      <td>NaN</td>\n",
       "      <td>NaN</td>\n",
       "      <td>NaN</td>\n",
       "      <td>NaN</td>\n",
       "      <td>NaN</td>\n",
       "      <td>NaN</td>\n",
       "      <td>NaN</td>\n",
       "    </tr>\n",
       "    <tr>\n",
       "      <th>2421</th>\n",
       "      <td>-- Accuracy</td>\n",
       "      <td>NaN</td>\n",
       "      <td>NaN</td>\n",
       "      <td>NaN</td>\n",
       "      <td>NaN</td>\n",
       "      <td>NaN</td>\n",
       "      <td>NaN</td>\n",
       "      <td>NaN</td>\n",
       "      <td>NaN</td>\n",
       "    </tr>\n",
       "    <tr>\n",
       "      <th>2422</th>\n",
       "      <td>(c)  FAO of the UN</td>\n",
       "      <td>NaN</td>\n",
       "      <td>NaN</td>\n",
       "      <td>NaN</td>\n",
       "      <td>NaN</td>\n",
       "      <td>NaN</td>\n",
       "      <td>NaN</td>\n",
       "      <td>NaN</td>\n",
       "      <td>NaN</td>\n",
       "    </tr>\n",
       "    <tr>\n",
       "      <th>2423</th>\n",
       "      <td>The information contained in AQUASTAT is provi...</td>\n",
       "      <td>NaN</td>\n",
       "      <td>NaN</td>\n",
       "      <td>NaN</td>\n",
       "      <td>NaN</td>\n",
       "      <td>NaN</td>\n",
       "      <td>NaN</td>\n",
       "      <td>NaN</td>\n",
       "      <td>NaN</td>\n",
       "    </tr>\n",
       "    <tr>\n",
       "      <th>2424</th>\n",
       "      <td>FAO [Year of publication].AQUASTAT Database. A...</td>\n",
       "      <td>NaN</td>\n",
       "      <td>NaN</td>\n",
       "      <td>NaN</td>\n",
       "      <td>NaN</td>\n",
       "      <td>NaN</td>\n",
       "      <td>NaN</td>\n",
       "      <td>NaN</td>\n",
       "      <td>NaN</td>\n",
       "    </tr>\n",
       "  </tbody>\n",
       "</table>\n",
       "<p>2425 rows × 9 columns</p>\n",
       "</div>"
      ],
      "text/plain": [
       "                                                  index  Area  \\\n",
       "0                                       AFG|Afghanistan   4.0   \n",
       "1                                       AFG|Afghanistan   4.0   \n",
       "2                                       AFG|Afghanistan   4.0   \n",
       "3                                       AFG|Afghanistan   4.0   \n",
       "4                                       AFG|Afghanistan   4.0   \n",
       "...                                                 ...   ...   \n",
       "2420                                         -- General   NaN   \n",
       "2421                                        -- Accuracy   NaN   \n",
       "2422                                 (c)  FAO of the UN   NaN   \n",
       "2423  The information contained in AQUASTAT is provi...   NaN   \n",
       "2424  FAO [Year of publication].AQUASTAT Database. A...   NaN   \n",
       "\n",
       "                                              Area Id  Variable Name  \\\n",
       "0     Total area of the country (excl. coastal water)         4100.0   \n",
       "1     Total area of the country (excl. coastal water)         4100.0   \n",
       "2     Total area of the country (excl. coastal water)         4100.0   \n",
       "3     Total area of the country (excl. coastal water)         4100.0   \n",
       "4     Total area of the country (excl. coastal water)         4100.0   \n",
       "...                                               ...            ...   \n",
       "2420                                              NaN            NaN   \n",
       "2421                                              NaN            NaN   \n",
       "2422                                              NaN            NaN   \n",
       "2423                                              NaN            NaN   \n",
       "2424                                              NaN            NaN   \n",
       "\n",
       "      Variable Id     Year Value Symbol      Md  \n",
       "0          1962.0  65286.0     X    NaN  6768.0  \n",
       "1          1967.0  65286.0     X    NaN  6768.0  \n",
       "2          1972.0  65286.0     X    NaN  6768.0  \n",
       "3          1977.0  65286.0     X    NaN  6768.0  \n",
       "4          1982.0  65286.0     X    NaN  6768.0  \n",
       "...           ...      ...   ...    ...     ...  \n",
       "2420          NaN      NaN   NaN    NaN     NaN  \n",
       "2421          NaN      NaN   NaN    NaN     NaN  \n",
       "2422          NaN      NaN   NaN    NaN     NaN  \n",
       "2423          NaN      NaN   NaN    NaN     NaN  \n",
       "2424          NaN      NaN   NaN    NaN     NaN  \n",
       "\n",
       "[2425 rows x 9 columns]"
      ]
     },
     "execution_count": 23,
     "metadata": {},
     "output_type": "execute_result"
    }
   ],
   "source": [
    "df.reset_index()"
   ]
  },
  {
   "cell_type": "code",
   "execution_count": null,
   "id": "00659484",
   "metadata": {},
   "outputs": [],
   "source": []
  },
  {
   "cell_type": "code",
   "execution_count": 16,
   "id": "8210e54c",
   "metadata": {},
   "outputs": [],
   "source": [
    "import functools"
   ]
  },
  {
   "cell_type": "code",
   "execution_count": 17,
   "id": "c595bd5a",
   "metadata": {},
   "outputs": [],
   "source": [
    "import numpy as np"
   ]
  },
  {
   "cell_type": "code",
   "execution_count": 18,
   "id": "a24f1734",
   "metadata": {},
   "outputs": [
    {
     "data": {
      "text/plain": [
       "193"
      ]
     },
     "execution_count": 18,
     "metadata": {},
     "output_type": "execute_result"
    }
   ],
   "source": [
    "len(varGrps)"
   ]
  },
  {
   "cell_type": "code",
   "execution_count": 19,
   "id": "c1aace47",
   "metadata": {},
   "outputs": [
    {
     "data": {
      "text/plain": [
       "38.6"
      ]
     },
     "execution_count": 19,
     "metadata": {},
     "output_type": "execute_result"
    }
   ],
   "source": [
    "193 / 5"
   ]
  },
  {
   "cell_type": "code",
   "execution_count": 20,
   "id": "f3017149",
   "metadata": {},
   "outputs": [],
   "source": [
    "vsplit = []\n",
    "\n",
    "for i in range(5):\n",
    "    s = varGrps[39*i:39*(i+1)]\n",
    "    vsplit.append(s)"
   ]
  },
  {
   "cell_type": "code",
   "execution_count": 21,
   "id": "faf2458a",
   "metadata": {},
   "outputs": [
    {
     "data": {
      "text/plain": [
       "[39, 39, 39, 39, 37]"
      ]
     },
     "execution_count": 21,
     "metadata": {},
     "output_type": "execute_result"
    }
   ],
   "source": [
    "list(map(lambda x: len(x), vsplit))"
   ]
  },
  {
   "cell_type": "code",
   "execution_count": 24,
   "id": "befad9bd",
   "metadata": {},
   "outputs": [],
   "source": [
    "from multiprocessing import Pool"
   ]
  },
  {
   "cell_type": "code",
   "execution_count": 25,
   "id": "cc835e2c",
   "metadata": {},
   "outputs": [],
   "source": [
    "def run(lst):\n",
    "    session = requests_retry_session()\n",
    "    session.get(frontpage)\n",
    "    for x in lst:\n",
    "        if os.path.exists(os.path.join('../source/new/', f'{x}.csv')):\n",
    "            continue\n",
    "        print(x)\n",
    "        download_indicator(x, session)"
   ]
  },
  {
   "cell_type": "code",
   "execution_count": 26,
   "id": "33e44803",
   "metadata": {
    "scrolled": false
   },
   "outputs": [
    {
     "name": "stdout",
     "output_type": "stream",
     "text": [
      "4102\n",
      "4193\n",
      "4521\n",
      "4369\n",
      "POST failed, 504\n",
      "4194\n",
      "4317\n",
      "4111\n",
      "POST failed, 404\n",
      "4318\n",
      "4524\n",
      "POST failed, 404\n",
      "4325\n",
      "4195\n",
      "POST failed, 504\n",
      "4526\n",
      "4379\n",
      "POST failed, 404\n",
      "4458\n",
      "4196\n",
      "4112\n",
      "4327\n",
      "4250\n",
      "POST failed, 404\n",
      "4251\n",
      "4539\n",
      "POST failed, 404\n",
      "4252\n",
      "4475\n",
      "POST failed, 404\n",
      "4253\n",
      "POST failed, 404\n",
      "4254\n",
      "POST failed, 404\n",
      "4155\n",
      "4345\n",
      "4540\n",
      "4256\n",
      "4156\n",
      "4346\n",
      "4541\n",
      "4261\n",
      "POST failed, 404\n",
      "4264\n",
      "POST failed, 404\n",
      "4265\n",
      "4348\n",
      "4542\n",
      "4269\n",
      "POST failed, 404\n",
      "4270\n",
      "4543\n",
      "POST failed, 404\n",
      "4275\n",
      "4349\n",
      "4303\n",
      "4350\n",
      "4304\n",
      "4351\n",
      "4308\n",
      "POST failed, 404\n",
      "4311\n",
      "POST failed, 404\n",
      "4312\n",
      "4352\n",
      "POST failed, 404\n",
      "4313\n",
      "POST failed, 404\n",
      "4314\n",
      "POST failed, 404\n",
      "4315\n",
      "POST failed, 404\n",
      "4316\n",
      "POST failed, 404\n",
      "4353\n",
      "4354\n",
      "4355\n",
      "4356\n",
      "4357\n",
      "4358\n",
      "4359\n",
      "4360\n",
      "4361\n",
      "4362\n",
      "4363\n",
      "4364\n",
      "4365\n",
      "4366\n",
      "4367\n",
      "4368\n"
     ]
    }
   ],
   "source": [
    "with Pool(5) as p:\n",
    "    p.map(run, vsplit)"
   ]
  },
  {
   "cell_type": "code",
   "execution_count": 27,
   "id": "c931ffea",
   "metadata": {},
   "outputs": [
    {
     "name": "stdout",
     "output_type": "stream",
     "text": [
      "4524\n",
      "4379\n",
      "4317\n",
      "POST failed, 404\n",
      "4318\n",
      "POST failed, 404\n",
      "4475\n",
      "4193\n",
      "POST failed, 404\n",
      "POST failed, 404\n",
      "4250\n",
      "POST failed, 404\n",
      "4251\n",
      "POST failed, 404\n",
      "4252\n",
      "POST failed, 404\n",
      "4253\n",
      "POST failed, 404\n",
      "4261\n",
      "POST failed, 404\n",
      "4264\n",
      "POST failed, 404\n",
      "4269\n",
      "POST failed, 404\n",
      "4270\n",
      "POST failed, 404\n",
      "4308\n",
      "POST failed, 404\n",
      "4311\n",
      "POST failed, 404\n",
      "4312\n",
      "POST failed, 404\n",
      "4313\n",
      "POST failed, 404\n",
      "4314\n",
      "POST failed, 404\n",
      "4315\n",
      "POST failed, 404\n",
      "4316\n",
      "POST failed, 404\n"
     ]
    }
   ],
   "source": [
    "with Pool(5) as p:\n",
    "    p.map(run, vsplit)"
   ]
  },
  {
   "cell_type": "code",
   "execution_count": null,
   "id": "76e09e87",
   "metadata": {},
   "outputs": [],
   "source": []
  },
  {
   "cell_type": "code",
   "execution_count": null,
   "id": "9b029c0f",
   "metadata": {},
   "outputs": [],
   "source": []
  },
  {
   "cell_type": "code",
   "execution_count": null,
   "id": "9e74cfde",
   "metadata": {},
   "outputs": [],
   "source": []
  }
 ],
 "metadata": {
  "kernelspec": {
   "display_name": "Python 3",
   "language": "python",
   "name": "python3"
  },
  "language_info": {
   "codemirror_mode": {
    "name": "ipython",
    "version": 3
   },
   "file_extension": ".py",
   "mimetype": "text/x-python",
   "name": "python",
   "nbconvert_exporter": "python",
   "pygments_lexer": "ipython3",
   "version": "3.8.12"
  }
 },
 "nbformat": 4,
 "nbformat_minor": 5
}
