{
 "cells": [
  {
   "cell_type": "markdown",
   "metadata": {},
   "source": [
    "# municipal_water_withdrawal_per_capita\n",
    "\n",
    "Because AQUASTAT doesn't provide this indicator, we want to calculate this indicator using municipal_water_withdrawal and total_population data.\n",
    "\n",
    "One tricky issue is that in AQUASTAT they don't have data for each year, and data are reported in period. In their FAQ: \n",
    "\n",
    "> The latest value that has data of every 5 year period is shown, NOT the average value of that 5 year period. For example, if data are available for the year 2004 and for the year 2006, then the period 2003-2007 value in the AQUASTAT Main Database corresponds to the year 2006. Periods are reported because AQUASTAT data is based on data reported by countries, and data does not exist for every year. Therefore, forcing the data into 5 year periods allows for subsequent calculations (like totals) to be performed.\n",
    "\n",
    "Judging from their total water use and their total water use per capita, they don't take into account which year in the 5-year period the actual water measurement comes from.\n",
    "\n",
    "But we want to have data by year, not year range. So we should align the data first.\n"
   ]
  },
  {
   "cell_type": "code",
   "execution_count": 1,
   "metadata": {},
   "outputs": [],
   "source": [
    "import pandas as pd\n",
    "from ddf_utils.model import Datapackage"
   ]
  },
  {
   "cell_type": "code",
   "execution_count": 40,
   "metadata": {},
   "outputs": [],
   "source": [
    "dp = Datapackage('../../')"
   ]
  },
  {
   "cell_type": "code",
   "execution_count": 3,
   "metadata": {},
   "outputs": [],
   "source": [
    "municipal_water_withdrawal = dp.get_datapoint_df('municipal_water_withdrawal', ('area', 'year')).compute()"
   ]
  },
  {
   "cell_type": "code",
   "execution_count": 4,
   "metadata": {},
   "outputs": [],
   "source": [
    "total_population = dp.get_datapoint_df('total_population', ('area', 'year')).compute()"
   ]
  },
  {
   "cell_type": "code",
   "execution_count": 5,
   "metadata": {},
   "outputs": [
    {
     "data": {
      "text/plain": [
       "(637, 3)"
      ]
     },
     "execution_count": 5,
     "metadata": {},
     "output_type": "execute_result"
    }
   ],
   "source": [
    "municipal_water_withdrawal.shape"
   ]
  },
  {
   "cell_type": "code",
   "execution_count": 6,
   "metadata": {},
   "outputs": [
    {
     "data": {
      "text/plain": [
       "(2220, 3)"
      ]
     },
     "execution_count": 6,
     "metadata": {},
     "output_type": "execute_result"
    }
   ],
   "source": [
    "total_population.shape"
   ]
  },
  {
   "cell_type": "code",
   "execution_count": 7,
   "metadata": {},
   "outputs": [],
   "source": [
    "municipal_water_withdrawal['area'] = municipal_water_withdrawal['area'].astype(str)\n",
    "total_population['area'] = total_population['area'].astype(str)"
   ]
  },
  {
   "cell_type": "code",
   "execution_count": 8,
   "metadata": {},
   "outputs": [],
   "source": [
    "municipal_water_withdrawal = municipal_water_withdrawal.set_index(['area', 'year'])\n",
    "total_population = total_population.set_index(['area', 'year'])"
   ]
  },
  {
   "cell_type": "code",
   "execution_count": 9,
   "metadata": {},
   "outputs": [],
   "source": [
    "df = municipal_water_withdrawal.join(total_population, how='outer')"
   ]
  },
  {
   "cell_type": "code",
   "execution_count": 10,
   "metadata": {
    "scrolled": false
   },
   "outputs": [
    {
     "data": {
      "text/html": [
       "<div>\n",
       "<style scoped>\n",
       "    .dataframe tbody tr th:only-of-type {\n",
       "        vertical-align: middle;\n",
       "    }\n",
       "\n",
       "    .dataframe tbody tr th {\n",
       "        vertical-align: top;\n",
       "    }\n",
       "\n",
       "    .dataframe thead th {\n",
       "        text-align: right;\n",
       "    }\n",
       "</style>\n",
       "<table border=\"1\" class=\"dataframe\">\n",
       "  <thead>\n",
       "    <tr style=\"text-align: right;\">\n",
       "      <th></th>\n",
       "      <th></th>\n",
       "      <th>municipal_water_withdrawal</th>\n",
       "      <th>total_population</th>\n",
       "    </tr>\n",
       "    <tr>\n",
       "      <th>area</th>\n",
       "      <th>year</th>\n",
       "      <th></th>\n",
       "      <th></th>\n",
       "    </tr>\n",
       "  </thead>\n",
       "  <tbody>\n",
       "    <tr>\n",
       "      <th rowspan=\"14\" valign=\"top\">afghanistan</th>\n",
       "      <th>1962</th>\n",
       "      <td>NaN</td>\n",
       "      <td>9344.0</td>\n",
       "    </tr>\n",
       "    <tr>\n",
       "      <th>1967</th>\n",
       "      <td>NaN</td>\n",
       "      <td>10369.0</td>\n",
       "    </tr>\n",
       "    <tr>\n",
       "      <th>1972</th>\n",
       "      <td>NaN</td>\n",
       "      <td>11717.0</td>\n",
       "    </tr>\n",
       "    <tr>\n",
       "      <th>1977</th>\n",
       "      <td>NaN</td>\n",
       "      <td>13056.0</td>\n",
       "    </tr>\n",
       "    <tr>\n",
       "      <th>1982</th>\n",
       "      <td>NaN</td>\n",
       "      <td>12667.0</td>\n",
       "    </tr>\n",
       "    <tr>\n",
       "      <th>1987</th>\n",
       "      <td>0.2611</td>\n",
       "      <td>11338.0</td>\n",
       "    </tr>\n",
       "    <tr>\n",
       "      <th>1992</th>\n",
       "      <td>NaN</td>\n",
       "      <td>13746.0</td>\n",
       "    </tr>\n",
       "    <tr>\n",
       "      <th>1997</th>\n",
       "      <td>NaN</td>\n",
       "      <td>18034.0</td>\n",
       "    </tr>\n",
       "    <tr>\n",
       "      <th>2000</th>\n",
       "      <td>0.1542</td>\n",
       "      <td>NaN</td>\n",
       "    </tr>\n",
       "    <tr>\n",
       "      <th>2002</th>\n",
       "      <td>NaN</td>\n",
       "      <td>21487.0</td>\n",
       "    </tr>\n",
       "    <tr>\n",
       "      <th>2005</th>\n",
       "      <td>0.2034</td>\n",
       "      <td>NaN</td>\n",
       "    </tr>\n",
       "    <tr>\n",
       "      <th>2007</th>\n",
       "      <td>NaN</td>\n",
       "      <td>25878.0</td>\n",
       "    </tr>\n",
       "    <tr>\n",
       "      <th>2012</th>\n",
       "      <td>NaN</td>\n",
       "      <td>29727.0</td>\n",
       "    </tr>\n",
       "    <tr>\n",
       "      <th>2015</th>\n",
       "      <td>NaN</td>\n",
       "      <td>32527.0</td>\n",
       "    </tr>\n",
       "    <tr>\n",
       "      <th rowspan=\"6\" valign=\"top\">albania</th>\n",
       "      <th>1962</th>\n",
       "      <td>NaN</td>\n",
       "      <td>1738.0</td>\n",
       "    </tr>\n",
       "    <tr>\n",
       "      <th>1967</th>\n",
       "      <td>NaN</td>\n",
       "      <td>1999.0</td>\n",
       "    </tr>\n",
       "    <tr>\n",
       "      <th>1972</th>\n",
       "      <td>NaN</td>\n",
       "      <td>2254.0</td>\n",
       "    </tr>\n",
       "    <tr>\n",
       "      <th>1977</th>\n",
       "      <td>NaN</td>\n",
       "      <td>2518.0</td>\n",
       "    </tr>\n",
       "    <tr>\n",
       "      <th>1982</th>\n",
       "      <td>NaN</td>\n",
       "      <td>2788.0</td>\n",
       "    </tr>\n",
       "    <tr>\n",
       "      <th>1987</th>\n",
       "      <td>NaN</td>\n",
       "      <td>3121.0</td>\n",
       "    </tr>\n",
       "  </tbody>\n",
       "</table>\n",
       "</div>"
      ],
      "text/plain": [
       "                  municipal_water_withdrawal  total_population\n",
       "area        year                                              \n",
       "afghanistan 1962                         NaN            9344.0\n",
       "            1967                         NaN           10369.0\n",
       "            1972                         NaN           11717.0\n",
       "            1977                         NaN           13056.0\n",
       "            1982                         NaN           12667.0\n",
       "            1987                      0.2611           11338.0\n",
       "            1992                         NaN           13746.0\n",
       "            1997                         NaN           18034.0\n",
       "            2000                      0.1542               NaN\n",
       "            2002                         NaN           21487.0\n",
       "            2005                      0.2034               NaN\n",
       "            2007                         NaN           25878.0\n",
       "            2012                         NaN           29727.0\n",
       "            2015                         NaN           32527.0\n",
       "albania     1962                         NaN            1738.0\n",
       "            1967                         NaN            1999.0\n",
       "            1972                         NaN            2254.0\n",
       "            1977                         NaN            2518.0\n",
       "            1982                         NaN            2788.0\n",
       "            1987                         NaN            3121.0"
      ]
     },
     "execution_count": 10,
     "metadata": {},
     "output_type": "execute_result"
    }
   ],
   "source": [
    "df.head(20)"
   ]
  },
  {
   "cell_type": "code",
   "execution_count": null,
   "metadata": {},
   "outputs": [],
   "source": []
  },
  {
   "cell_type": "code",
   "execution_count": null,
   "metadata": {},
   "outputs": [],
   "source": []
  },
  {
   "cell_type": "code",
   "execution_count": 11,
   "metadata": {},
   "outputs": [],
   "source": [
    "df2 = df.copy()"
   ]
  },
  {
   "cell_type": "code",
   "execution_count": 12,
   "metadata": {},
   "outputs": [],
   "source": [
    "# back fill NaN values for population. In most case this should make 2 series aligned. \n",
    "# Because withdrawal data usually not avaliable for the latest year of a period\n",
    "# TODO: Maybe reindex and create year range manually and compute.\n",
    "\n",
    "df2['total_population'] = df2['total_population'].fillna(method='bfill')"
   ]
  },
  {
   "cell_type": "code",
   "execution_count": 14,
   "metadata": {},
   "outputs": [],
   "source": [
    "df2['municipal_water_withdrawal_per_captia'] = df2['municipal_water_withdrawal'] / df2['total_population'] * (10**6)"
   ]
  },
  {
   "cell_type": "code",
   "execution_count": 16,
   "metadata": {},
   "outputs": [
    {
     "data": {
      "text/plain": [
       "area                              year\n",
       "afghanistan                       1987     23.028753\n",
       "                                  2000      7.176432\n",
       "                                  2005      7.859958\n",
       "albania                           1990     30.854674\n",
       "                                  2000    176.240794\n",
       "                                  2005    186.416473\n",
       "algeria                           1980     32.076205\n",
       "                                  1990     41.205254\n",
       "                                  2000     53.798062\n",
       "                                  2012     80.664548\n",
       "angola                            1987      6.513708\n",
       "                                  2000     15.270019\n",
       "                                  2005     16.654504\n",
       "antigua_and_barbuda               1990     47.296232\n",
       "                                  2005     62.796209\n",
       "                                  2012     80.835298\n",
       "argentina                         1995    127.253446\n",
       "                                  2011    138.971374\n",
       "armenia                           1995    275.653282\n",
       "                                  2002    169.609452\n",
       "                                  2006    282.128514\n",
       "                                  2012     81.598388\n",
       "                                  2015     65.606362\n",
       "australia                         2001    227.682689\n",
       "                                  2005    199.799771\n",
       "                                  2012    163.414954\n",
       "                                  2015    167.508031\n",
       "austria                           1980     73.553828\n",
       "                                  1985     92.969570\n",
       "                                  1990     87.687188\n",
       "                                             ...    \n",
       "united_kingdom                    2002    123.303148\n",
       "                                  2007     97.952643\n",
       "                                  2011     92.270425\n",
       "united_republic_of_tanzania       1970      6.962636\n",
       "                                  2002     14.698090\n",
       "united_states_of_america          1990    235.237098\n",
       "                                  2000    221.860159\n",
       "                                  2005    216.932971\n",
       "                                  2010    197.236341\n",
       "uruguay                           1965     14.181818\n",
       "                                  2000    123.197115\n",
       "uzbekistan                        1994    109.989350\n",
       "                                  2001    137.510463\n",
       "                                  2005    154.210704\n",
       "venezuela_bolivarian_republic_of  1970    143.496663\n",
       "                                  2000    173.668255\n",
       "                                  2005    185.139677\n",
       "viet_nam                          1980     23.185555\n",
       "                                  1985     27.394687\n",
       "                                  2000     12.830060\n",
       "                                  2005     14.060697\n",
       "yemen                             1990     15.175538\n",
       "                                  2000     14.443500\n",
       "                                  2005     12.211419\n",
       "zambia                            1992     35.093856\n",
       "                                  1994     27.652601\n",
       "                                  2000     26.032316\n",
       "zimbabwe                          1987     17.932047\n",
       "                                  2002     46.410842\n",
       "                                  2007     31.959693\n",
       "Name: municipal_water_withdrawal_per_captia, Length: 637, dtype: float64"
      ]
     },
     "execution_count": 16,
     "metadata": {},
     "output_type": "execute_result"
    }
   ],
   "source": [
    "df2['municipal_water_withdrawal_per_captia'].dropna()"
   ]
  },
  {
   "cell_type": "code",
   "execution_count": 18,
   "metadata": {},
   "outputs": [],
   "source": [
    "(df2['municipal_water_withdrawal_per_captia'].dropna()\n",
    ".to_csv('../../ddf--datapoints--municipal_water_withdrawal_per_captia--by--area--year.csv'))"
   ]
  },
  {
   "cell_type": "code",
   "execution_count": null,
   "metadata": {},
   "outputs": [],
   "source": []
  },
  {
   "cell_type": "code",
   "execution_count": 41,
   "metadata": {},
   "outputs": [],
   "source": [
    "concepts = dp.concepts"
   ]
  },
  {
   "cell_type": "code",
   "execution_count": 42,
   "metadata": {},
   "outputs": [],
   "source": [
    "cdf = concepts[concepts.concept_type == 'measure'].copy()"
   ]
  },
  {
   "cell_type": "code",
   "execution_count": 43,
   "metadata": {},
   "outputs": [
    {
     "data": {
      "text/html": [
       "<div>\n",
       "<style scoped>\n",
       "    .dataframe tbody tr th:only-of-type {\n",
       "        vertical-align: middle;\n",
       "    }\n",
       "\n",
       "    .dataframe tbody tr th {\n",
       "        vertical-align: top;\n",
       "    }\n",
       "\n",
       "    .dataframe thead th {\n",
       "        text-align: right;\n",
       "    }\n",
       "</style>\n",
       "<table border=\"1\" class=\"dataframe\">\n",
       "  <thead>\n",
       "    <tr style=\"text-align: right;\">\n",
       "      <th></th>\n",
       "      <th>concept</th>\n",
       "      <th>concept_type</th>\n",
       "      <th>name</th>\n",
       "      <th>variable_id</th>\n",
       "    </tr>\n",
       "  </thead>\n",
       "  <tbody>\n",
       "    <tr>\n",
       "      <th>26</th>\n",
       "      <td>area_equipped_for_irrigation_by_direct_use_of_...</td>\n",
       "      <td>measure</td>\n",
       "      <td>Area equipped for irrigation by direct use of ...</td>\n",
       "      <td>4533.0</td>\n",
       "    </tr>\n",
       "  </tbody>\n",
       "</table>\n",
       "</div>"
      ],
      "text/plain": [
       "                                              concept concept_type  \\\n",
       "26  area_equipped_for_irrigation_by_direct_use_of_...      measure   \n",
       "\n",
       "                                                 name  variable_id  \n",
       "26  Area equipped for irrigation by direct use of ...       4533.0  "
      ]
     },
     "execution_count": 43,
     "metadata": {},
     "output_type": "execute_result"
    }
   ],
   "source": [
    "cdf[cdf.concept == 'area_equipped_for_irrigation_by_direct_use_of_treated_municipal_wastewater']"
   ]
  },
  {
   "cell_type": "code",
   "execution_count": 44,
   "metadata": {},
   "outputs": [],
   "source": [
    "cdf = cdf.set_index('concept')"
   ]
  },
  {
   "cell_type": "code",
   "execution_count": 45,
   "metadata": {},
   "outputs": [],
   "source": [
    "cdf['variable_id'] = cdf['variable_id'].map(lambda x: str(int(float(x))))"
   ]
  },
  {
   "cell_type": "code",
   "execution_count": null,
   "metadata": {},
   "outputs": [],
   "source": []
  },
  {
   "cell_type": "code",
   "execution_count": 46,
   "metadata": {},
   "outputs": [],
   "source": [
    "cdf.loc['municipal_water_withdrawal_per_captia'] = ['measure', 'Municipal Water Withdrawal Per Captia', '']"
   ]
  },
  {
   "cell_type": "code",
   "execution_count": null,
   "metadata": {},
   "outputs": [],
   "source": []
  },
  {
   "cell_type": "code",
   "execution_count": 47,
   "metadata": {},
   "outputs": [],
   "source": [
    "cdf.sort_index().to_csv('../../ddf--concepts--continuous.csv')"
   ]
  },
  {
   "cell_type": "code",
   "execution_count": null,
   "metadata": {},
   "outputs": [],
   "source": []
  },
  {
   "cell_type": "code",
   "execution_count": null,
   "metadata": {},
   "outputs": [],
   "source": []
  }
 ],
 "metadata": {
  "kernelspec": {
   "display_name": "Python 3",
   "language": "python",
   "name": "python3"
  },
  "language_info": {
   "codemirror_mode": {
    "name": "ipython",
    "version": 3
   },
   "file_extension": ".py",
   "mimetype": "text/x-python",
   "name": "python",
   "nbconvert_exporter": "python",
   "pygments_lexer": "ipython3",
   "version": "3.8.12"
  }
 },
 "nbformat": 4,
 "nbformat_minor": 2
}
