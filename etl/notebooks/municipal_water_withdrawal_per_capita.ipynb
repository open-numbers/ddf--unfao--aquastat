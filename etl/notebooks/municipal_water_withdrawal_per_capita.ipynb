{
 "cells": [
  {
   "cell_type": "markdown",
   "metadata": {},
   "source": [
    "# municipal_water_withdrawal_per_capita\n",
    "\n",
    "Because AQUASTAT doesn't provide this indicator, we want to calculate this indicator using municipal_water_withdrawal_as_pct_of_total_withdrawal and total_water_withdrawal_per_capita data."
   ]
  },
  {
   "cell_type": "code",
   "execution_count": 1,
   "metadata": {},
   "outputs": [],
   "source": [
    "import pandas as pd\n",
    "from ddf_utils.model import DDFcsv"
   ]
  },
  {
   "cell_type": "code",
   "execution_count": 2,
   "metadata": {},
   "outputs": [],
   "source": [
    "dp = DDFcsv.from_path('../../').ddf"
   ]
  },
  {
   "cell_type": "code",
   "execution_count": 3,
   "metadata": {},
   "outputs": [
    {
     "data": {
      "text/plain": [
       "['area_equipped_for_irrigation_by_direct_use_of_non_treated_municipal_wastewater',\n",
       " 'area_equipped_for_irrigation_by_direct_use_of_not_treated_municipal_wastewater',\n",
       " 'area_equipped_for_irrigation_by_direct_use_of_treated_municipal_wastewater',\n",
       " 'capacity_of_the_municipal_wastewater_treatment_facilities',\n",
       " 'collected_municipal_wastewater',\n",
       " 'direct_use_of_not_treated_municipal_wastewater_for_irrigation_purposes',\n",
       " 'direct_use_of_treated_municipal_wastewater',\n",
       " 'direct_use_of_treated_municipal_wastewater_for_irrigation_purposes',\n",
       " 'municipal_water_withdrawal_as_pct_of_total_withdrawal',\n",
       " 'municipal_water_withdrawal_per_captia',\n",
       " 'not_treated_municipal_wastewater',\n",
       " 'not_treated_municipal_wastewater_discharged_secondary_water',\n",
       " 'number_of_municipal_wastewater_treatment_facilities',\n",
       " 'pct_of_area_equipped_for_irrigation_by_direct_use_of_non_treated_municipal_wastewater',\n",
       " 'pct_of_area_equipped_for_irrigation_by_direct_use_of_treated_municipal_wastewater',\n",
       " 'treated_municipal_wastewater_discharged_secondary_water']"
      ]
     },
     "execution_count": 3,
     "metadata": {},
     "output_type": "execute_result"
    }
   ],
   "source": [
    "[x for x in dp.concepts.keys() if 'municipal' in x]"
   ]
  },
  {
   "cell_type": "code",
   "execution_count": 4,
   "metadata": {},
   "outputs": [
    {
     "data": {
      "text/plain": [
       "['agricultural_water_withdrawal_as_pct_of_total_renewable_water_resources',\n",
       " 'agricultural_water_withdrawal_as_pct_of_total_water_withdrawal',\n",
       " 'fresh_groundwater_withdrawal',\n",
       " 'industrial_water_withdrawal_as_pct_of_total_water_withdrawal',\n",
       " 'mdg_7_5_freshwater_withdrawal_as_pct_of_total_renewable_water_resources',\n",
       " 'municipal_water_withdrawal_as_pct_of_total_withdrawal',\n",
       " 'municipal_water_withdrawal_per_captia',\n",
       " 'total_freshwater_withdrawal',\n",
       " 'total_water_withdrawal_per_capita']"
      ]
     },
     "execution_count": 4,
     "metadata": {},
     "output_type": "execute_result"
    }
   ],
   "source": [
    "[x for x in dp.concepts.keys() if 'withdrawal' in x]"
   ]
  },
  {
   "cell_type": "code",
   "execution_count": 5,
   "metadata": {},
   "outputs": [],
   "source": [
    "# municipal_water_withdrawal_as_pct_of_total_withdrawal\n",
    "# total_water_withdrawal_perd_capita"
   ]
  },
  {
   "cell_type": "code",
   "execution_count": 6,
   "metadata": {},
   "outputs": [],
   "source": [
    "municipal_water_withdrawal = dp.get_datapoints('municipal_water_withdrawal_as_pct_of_total_withdrawal', \n",
    "                                               ('area', 'year')).data.compute()\n",
    "total_water_withdrawal = dp.get_datapoints('total_water_withdrawal_per_capita', \n",
    "                                           ('area', 'year')).data.compute()"
   ]
  },
  {
   "cell_type": "code",
   "execution_count": 7,
   "metadata": {},
   "outputs": [
    {
     "data": {
      "text/html": [
       "<div>\n",
       "<style scoped>\n",
       "    .dataframe tbody tr th:only-of-type {\n",
       "        vertical-align: middle;\n",
       "    }\n",
       "\n",
       "    .dataframe tbody tr th {\n",
       "        vertical-align: top;\n",
       "    }\n",
       "\n",
       "    .dataframe thead th {\n",
       "        text-align: right;\n",
       "    }\n",
       "</style>\n",
       "<table border=\"1\" class=\"dataframe\">\n",
       "  <thead>\n",
       "    <tr style=\"text-align: right;\">\n",
       "      <th></th>\n",
       "      <th>area</th>\n",
       "      <th>year</th>\n",
       "      <th>municipal_water_withdrawal_as_pct_of_total_withdrawal</th>\n",
       "    </tr>\n",
       "  </thead>\n",
       "  <tbody>\n",
       "    <tr>\n",
       "      <th>0</th>\n",
       "      <td>afg</td>\n",
       "      <td>1987</td>\n",
       "      <td>0.999958</td>\n",
       "    </tr>\n",
       "    <tr>\n",
       "      <th>1</th>\n",
       "      <td>afg</td>\n",
       "      <td>1992</td>\n",
       "      <td>0.937688</td>\n",
       "    </tr>\n",
       "    <tr>\n",
       "      <th>2</th>\n",
       "      <td>afg</td>\n",
       "      <td>1997</td>\n",
       "      <td>0.859554</td>\n",
       "    </tr>\n",
       "    <tr>\n",
       "      <th>3</th>\n",
       "      <td>afg</td>\n",
       "      <td>2002</td>\n",
       "      <td>0.855760</td>\n",
       "    </tr>\n",
       "    <tr>\n",
       "      <th>4</th>\n",
       "      <td>afg</td>\n",
       "      <td>2007</td>\n",
       "      <td>0.998385</td>\n",
       "    </tr>\n",
       "    <tr>\n",
       "      <th>...</th>\n",
       "      <td>...</td>\n",
       "      <td>...</td>\n",
       "      <td>...</td>\n",
       "    </tr>\n",
       "    <tr>\n",
       "      <th>1244</th>\n",
       "      <td>zwe</td>\n",
       "      <td>2002</td>\n",
       "      <td>14.007134</td>\n",
       "    </tr>\n",
       "    <tr>\n",
       "      <th>1245</th>\n",
       "      <td>zwe</td>\n",
       "      <td>2007</td>\n",
       "      <td>11.904762</td>\n",
       "    </tr>\n",
       "    <tr>\n",
       "      <th>1246</th>\n",
       "      <td>zwe</td>\n",
       "      <td>2012</td>\n",
       "      <td>16.004840</td>\n",
       "    </tr>\n",
       "    <tr>\n",
       "      <th>1247</th>\n",
       "      <td>zwe</td>\n",
       "      <td>2017</td>\n",
       "      <td>14.605732</td>\n",
       "    </tr>\n",
       "    <tr>\n",
       "      <th>1248</th>\n",
       "      <td>zwe</td>\n",
       "      <td>2018</td>\n",
       "      <td>17.207494</td>\n",
       "    </tr>\n",
       "  </tbody>\n",
       "</table>\n",
       "<p>1249 rows × 3 columns</p>\n",
       "</div>"
      ],
      "text/plain": [
       "     area  year  municipal_water_withdrawal_as_pct_of_total_withdrawal\n",
       "0     afg  1987                                           0.999958    \n",
       "1     afg  1992                                           0.937688    \n",
       "2     afg  1997                                           0.859554    \n",
       "3     afg  2002                                           0.855760    \n",
       "4     afg  2007                                           0.998385    \n",
       "...   ...   ...                                                ...    \n",
       "1244  zwe  2002                                          14.007134    \n",
       "1245  zwe  2007                                          11.904762    \n",
       "1246  zwe  2012                                          16.004840    \n",
       "1247  zwe  2017                                          14.605732    \n",
       "1248  zwe  2018                                          17.207494    \n",
       "\n",
       "[1249 rows x 3 columns]"
      ]
     },
     "execution_count": 7,
     "metadata": {},
     "output_type": "execute_result"
    }
   ],
   "source": [
    "municipal_water_withdrawal"
   ]
  },
  {
   "cell_type": "code",
   "execution_count": 8,
   "metadata": {},
   "outputs": [
    {
     "data": {
      "text/html": [
       "<div>\n",
       "<style scoped>\n",
       "    .dataframe tbody tr th:only-of-type {\n",
       "        vertical-align: middle;\n",
       "    }\n",
       "\n",
       "    .dataframe tbody tr th {\n",
       "        vertical-align: top;\n",
       "    }\n",
       "\n",
       "    .dataframe thead th {\n",
       "        text-align: right;\n",
       "    }\n",
       "</style>\n",
       "<table border=\"1\" class=\"dataframe\">\n",
       "  <thead>\n",
       "    <tr style=\"text-align: right;\">\n",
       "      <th></th>\n",
       "      <th>area</th>\n",
       "      <th>year</th>\n",
       "      <th>total_water_withdrawal_per_capita</th>\n",
       "    </tr>\n",
       "  </thead>\n",
       "  <tbody>\n",
       "    <tr>\n",
       "      <th>0</th>\n",
       "      <td>afg</td>\n",
       "      <td>1977</td>\n",
       "      <td>1007.380488</td>\n",
       "    </tr>\n",
       "    <tr>\n",
       "      <th>1</th>\n",
       "      <td>afg</td>\n",
       "      <td>1982</td>\n",
       "      <td>1528.411841</td>\n",
       "    </tr>\n",
       "    <tr>\n",
       "      <th>2</th>\n",
       "      <td>afg</td>\n",
       "      <td>1987</td>\n",
       "      <td>2250.077427</td>\n",
       "    </tr>\n",
       "    <tr>\n",
       "      <th>3</th>\n",
       "      <td>afg</td>\n",
       "      <td>1992</td>\n",
       "      <td>1619.567311</td>\n",
       "    </tr>\n",
       "    <tr>\n",
       "      <th>4</th>\n",
       "      <td>afg</td>\n",
       "      <td>1997</td>\n",
       "      <td>1075.032191</td>\n",
       "    </tr>\n",
       "    <tr>\n",
       "      <th>...</th>\n",
       "      <td>...</td>\n",
       "      <td>...</td>\n",
       "      <td>...</td>\n",
       "    </tr>\n",
       "    <tr>\n",
       "      <th>1336</th>\n",
       "      <td>zwe</td>\n",
       "      <td>2002</td>\n",
       "      <td>351.756566</td>\n",
       "    </tr>\n",
       "    <tr>\n",
       "      <th>1337</th>\n",
       "      <td>zwe</td>\n",
       "      <td>2007</td>\n",
       "      <td>291.287755</td>\n",
       "    </tr>\n",
       "    <tr>\n",
       "      <th>1338</th>\n",
       "      <td>zwe</td>\n",
       "      <td>2012</td>\n",
       "      <td>263.898049</td>\n",
       "    </tr>\n",
       "    <tr>\n",
       "      <th>1339</th>\n",
       "      <td>zwe</td>\n",
       "      <td>2017</td>\n",
       "      <td>234.543442</td>\n",
       "    </tr>\n",
       "    <tr>\n",
       "      <th>1340</th>\n",
       "      <td>zwe</td>\n",
       "      <td>2018</td>\n",
       "      <td>261.197570</td>\n",
       "    </tr>\n",
       "  </tbody>\n",
       "</table>\n",
       "<p>1341 rows × 3 columns</p>\n",
       "</div>"
      ],
      "text/plain": [
       "     area  year  total_water_withdrawal_per_capita\n",
       "0     afg  1977                        1007.380488\n",
       "1     afg  1982                        1528.411841\n",
       "2     afg  1987                        2250.077427\n",
       "3     afg  1992                        1619.567311\n",
       "4     afg  1997                        1075.032191\n",
       "...   ...   ...                                ...\n",
       "1336  zwe  2002                         351.756566\n",
       "1337  zwe  2007                         291.287755\n",
       "1338  zwe  2012                         263.898049\n",
       "1339  zwe  2017                         234.543442\n",
       "1340  zwe  2018                         261.197570\n",
       "\n",
       "[1341 rows x 3 columns]"
      ]
     },
     "execution_count": 8,
     "metadata": {},
     "output_type": "execute_result"
    }
   ],
   "source": [
    "total_water_withdrawal"
   ]
  },
  {
   "cell_type": "code",
   "execution_count": 9,
   "metadata": {},
   "outputs": [],
   "source": [
    "municipal_water_withdrawal = municipal_water_withdrawal.set_index(['area', 'year'])\n",
    "total_water_withdrawal = total_water_withdrawal.set_index(['area', 'year'])"
   ]
  },
  {
   "cell_type": "code",
   "execution_count": 10,
   "metadata": {},
   "outputs": [],
   "source": [
    "df = municipal_water_withdrawal.join(total_water_withdrawal, how='outer')"
   ]
  },
  {
   "cell_type": "code",
   "execution_count": 11,
   "metadata": {},
   "outputs": [
    {
     "data": {
      "text/html": [
       "<div>\n",
       "<style scoped>\n",
       "    .dataframe tbody tr th:only-of-type {\n",
       "        vertical-align: middle;\n",
       "    }\n",
       "\n",
       "    .dataframe tbody tr th {\n",
       "        vertical-align: top;\n",
       "    }\n",
       "\n",
       "    .dataframe thead th {\n",
       "        text-align: right;\n",
       "    }\n",
       "</style>\n",
       "<table border=\"1\" class=\"dataframe\">\n",
       "  <thead>\n",
       "    <tr style=\"text-align: right;\">\n",
       "      <th></th>\n",
       "      <th></th>\n",
       "      <th>municipal_water_withdrawal_as_pct_of_total_withdrawal</th>\n",
       "      <th>total_water_withdrawal_per_capita</th>\n",
       "    </tr>\n",
       "    <tr>\n",
       "      <th>area</th>\n",
       "      <th>year</th>\n",
       "      <th></th>\n",
       "      <th></th>\n",
       "    </tr>\n",
       "  </thead>\n",
       "  <tbody>\n",
       "    <tr>\n",
       "      <th rowspan=\"5\" valign=\"top\">afg</th>\n",
       "      <th>1977</th>\n",
       "      <td>NaN</td>\n",
       "      <td>1007.380488</td>\n",
       "    </tr>\n",
       "    <tr>\n",
       "      <th>1982</th>\n",
       "      <td>NaN</td>\n",
       "      <td>1528.411841</td>\n",
       "    </tr>\n",
       "    <tr>\n",
       "      <th>1987</th>\n",
       "      <td>0.999958</td>\n",
       "      <td>2250.077427</td>\n",
       "    </tr>\n",
       "    <tr>\n",
       "      <th>1992</th>\n",
       "      <td>0.937688</td>\n",
       "      <td>1619.567311</td>\n",
       "    </tr>\n",
       "    <tr>\n",
       "      <th>1997</th>\n",
       "      <td>0.859554</td>\n",
       "      <td>1075.032191</td>\n",
       "    </tr>\n",
       "    <tr>\n",
       "      <th>...</th>\n",
       "      <th>...</th>\n",
       "      <td>...</td>\n",
       "      <td>...</td>\n",
       "    </tr>\n",
       "    <tr>\n",
       "      <th rowspan=\"5\" valign=\"top\">zwe</th>\n",
       "      <th>2002</th>\n",
       "      <td>14.007134</td>\n",
       "      <td>351.756566</td>\n",
       "    </tr>\n",
       "    <tr>\n",
       "      <th>2007</th>\n",
       "      <td>11.904762</td>\n",
       "      <td>291.287755</td>\n",
       "    </tr>\n",
       "    <tr>\n",
       "      <th>2012</th>\n",
       "      <td>16.004840</td>\n",
       "      <td>263.898049</td>\n",
       "    </tr>\n",
       "    <tr>\n",
       "      <th>2017</th>\n",
       "      <td>14.605732</td>\n",
       "      <td>234.543442</td>\n",
       "    </tr>\n",
       "    <tr>\n",
       "      <th>2018</th>\n",
       "      <td>17.207494</td>\n",
       "      <td>261.197570</td>\n",
       "    </tr>\n",
       "  </tbody>\n",
       "</table>\n",
       "<p>1341 rows × 2 columns</p>\n",
       "</div>"
      ],
      "text/plain": [
       "           municipal_water_withdrawal_as_pct_of_total_withdrawal  \\\n",
       "area year                                                          \n",
       "afg  1977                                                NaN       \n",
       "     1982                                                NaN       \n",
       "     1987                                           0.999958       \n",
       "     1992                                           0.937688       \n",
       "     1997                                           0.859554       \n",
       "...                                                      ...       \n",
       "zwe  2002                                          14.007134       \n",
       "     2007                                          11.904762       \n",
       "     2012                                          16.004840       \n",
       "     2017                                          14.605732       \n",
       "     2018                                          17.207494       \n",
       "\n",
       "           total_water_withdrawal_per_capita  \n",
       "area year                                     \n",
       "afg  1977                        1007.380488  \n",
       "     1982                        1528.411841  \n",
       "     1987                        2250.077427  \n",
       "     1992                        1619.567311  \n",
       "     1997                        1075.032191  \n",
       "...                                      ...  \n",
       "zwe  2002                         351.756566  \n",
       "     2007                         291.287755  \n",
       "     2012                         263.898049  \n",
       "     2017                         234.543442  \n",
       "     2018                         261.197570  \n",
       "\n",
       "[1341 rows x 2 columns]"
      ]
     },
     "execution_count": 11,
     "metadata": {},
     "output_type": "execute_result"
    }
   ],
   "source": [
    "df"
   ]
  },
  {
   "cell_type": "code",
   "execution_count": 12,
   "metadata": {},
   "outputs": [],
   "source": [
    "df2 = df.copy()"
   ]
  },
  {
   "cell_type": "code",
   "execution_count": 13,
   "metadata": {},
   "outputs": [],
   "source": [
    "df2['municipal_water_withdrawal_per_captia'] = df2['total_water_withdrawal_per_capita'] * df2['municipal_water_withdrawal_as_pct_of_total_withdrawal'] / 100.0"
   ]
  },
  {
   "cell_type": "code",
   "execution_count": 14,
   "metadata": {},
   "outputs": [],
   "source": [
    "res = df2['municipal_water_withdrawal_per_captia'].dropna()"
   ]
  },
  {
   "cell_type": "code",
   "execution_count": 15,
   "metadata": {},
   "outputs": [
    {
     "data": {
      "text/plain": [
       "area  year\n",
       "afg   1987    22.499826\n",
       "      1992    15.186491\n",
       "      1997     9.240485\n",
       "      2002     7.693543\n",
       "      2007     7.505387\n",
       "                ...    \n",
       "zwe   2002    49.271015\n",
       "      2007    34.677114\n",
       "      2012    42.236459\n",
       "      2017    34.256787\n",
       "      2018    44.945557\n",
       "Name: municipal_water_withdrawal_per_captia, Length: 1249, dtype: float64"
      ]
     },
     "execution_count": 15,
     "metadata": {},
     "output_type": "execute_result"
    }
   ],
   "source": [
    "res"
   ]
  },
  {
   "cell_type": "code",
   "execution_count": null,
   "metadata": {},
   "outputs": [],
   "source": []
  },
  {
   "cell_type": "code",
   "execution_count": 16,
   "metadata": {},
   "outputs": [],
   "source": [
    "res.to_csv('../../ddf--datapoints--municipal_water_withdrawal_per_captia--by--area--year.csv')"
   ]
  },
  {
   "cell_type": "code",
   "execution_count": null,
   "metadata": {},
   "outputs": [],
   "source": []
  },
  {
   "cell_type": "code",
   "execution_count": 17,
   "metadata": {},
   "outputs": [],
   "source": [
    "concepts = dp.concepts"
   ]
  },
  {
   "cell_type": "code",
   "execution_count": 18,
   "metadata": {
    "scrolled": true
   },
   "outputs": [
    {
     "data": {
      "text/html": [
       "<div>\n",
       "<style scoped>\n",
       "    .dataframe tbody tr th:only-of-type {\n",
       "        vertical-align: middle;\n",
       "    }\n",
       "\n",
       "    .dataframe tbody tr th {\n",
       "        vertical-align: top;\n",
       "    }\n",
       "\n",
       "    .dataframe thead th {\n",
       "        text-align: right;\n",
       "    }\n",
       "</style>\n",
       "<table border=\"1\" class=\"dataframe\">\n",
       "  <thead>\n",
       "    <tr style=\"text-align: right;\">\n",
       "      <th></th>\n",
       "      <th>concept</th>\n",
       "      <th>concept_type</th>\n",
       "      <th>name</th>\n",
       "      <th>variable_id</th>\n",
       "    </tr>\n",
       "  </thead>\n",
       "  <tbody>\n",
       "    <tr>\n",
       "      <th>0</th>\n",
       "      <td>agricultural_water_withdrawal_as_pct_of_total_...</td>\n",
       "      <td>measure</td>\n",
       "      <td>Agricultural water withdrawal as % of total re...</td>\n",
       "      <td>4273</td>\n",
       "    </tr>\n",
       "    <tr>\n",
       "      <th>1</th>\n",
       "      <td>agricultural_water_withdrawal_as_pct_of_total_...</td>\n",
       "      <td>measure</td>\n",
       "      <td>Agricultural water withdrawal as % of total wa...</td>\n",
       "      <td>4254</td>\n",
       "    </tr>\n",
       "    <tr>\n",
       "      <th>2</th>\n",
       "      <td>agriculture_value_added_pct_gdp</td>\n",
       "      <td>measure</td>\n",
       "      <td>Agriculture, value added (% GDP)</td>\n",
       "      <td>4113</td>\n",
       "    </tr>\n",
       "    <tr>\n",
       "      <th>3</th>\n",
       "      <td>agriculture_value_added_to_gdp</td>\n",
       "      <td>measure</td>\n",
       "      <td>Agriculture, value added to GDP</td>\n",
       "      <td>4548</td>\n",
       "    </tr>\n",
       "    <tr>\n",
       "      <th>4</th>\n",
       "      <td>arable_land_area</td>\n",
       "      <td>measure</td>\n",
       "      <td>Arable land area</td>\n",
       "      <td>4101</td>\n",
       "    </tr>\n",
       "    <tr>\n",
       "      <th>...</th>\n",
       "      <td>...</td>\n",
       "      <td>...</td>\n",
       "      <td>...</td>\n",
       "      <td>...</td>\n",
       "    </tr>\n",
       "    <tr>\n",
       "      <th>167</th>\n",
       "      <td>total_water_withdrawal_per_capita</td>\n",
       "      <td>measure</td>\n",
       "      <td>Total water withdrawal per capita</td>\n",
       "      <td>4257</td>\n",
       "    </tr>\n",
       "    <tr>\n",
       "      <th>168</th>\n",
       "      <td>treated_municipal_wastewater_discharged_second...</td>\n",
       "      <td>measure</td>\n",
       "      <td>Treated municipal wastewater discharged (secon...</td>\n",
       "      <td>4510</td>\n",
       "    </tr>\n",
       "    <tr>\n",
       "      <th>169</th>\n",
       "      <td>urban_population</td>\n",
       "      <td>measure</td>\n",
       "      <td>Urban population</td>\n",
       "      <td>4106</td>\n",
       "    </tr>\n",
       "    <tr>\n",
       "      <th>170</th>\n",
       "      <td>urban_population_with_access_to_safe_drinking_...</td>\n",
       "      <td>measure</td>\n",
       "      <td>Urban population with access to safe drinking-...</td>\n",
       "      <td>4116</td>\n",
       "    </tr>\n",
       "    <tr>\n",
       "      <th>171</th>\n",
       "      <td>water_resources_total_external_renewable</td>\n",
       "      <td>measure</td>\n",
       "      <td>Water resources: total external renewable</td>\n",
       "      <td>4182</td>\n",
       "    </tr>\n",
       "  </tbody>\n",
       "</table>\n",
       "<p>172 rows × 4 columns</p>\n",
       "</div>"
      ],
      "text/plain": [
       "                                               concept concept_type  \\\n",
       "0    agricultural_water_withdrawal_as_pct_of_total_...      measure   \n",
       "1    agricultural_water_withdrawal_as_pct_of_total_...      measure   \n",
       "2                      agriculture_value_added_pct_gdp      measure   \n",
       "3                       agriculture_value_added_to_gdp      measure   \n",
       "4                                     arable_land_area      measure   \n",
       "..                                                 ...          ...   \n",
       "167                  total_water_withdrawal_per_capita      measure   \n",
       "168  treated_municipal_wastewater_discharged_second...      measure   \n",
       "169                                   urban_population      measure   \n",
       "170  urban_population_with_access_to_safe_drinking_...      measure   \n",
       "171           water_resources_total_external_renewable      measure   \n",
       "\n",
       "                                                  name variable_id  \n",
       "0    Agricultural water withdrawal as % of total re...        4273  \n",
       "1    Agricultural water withdrawal as % of total wa...        4254  \n",
       "2                     Agriculture, value added (% GDP)        4113  \n",
       "3                      Agriculture, value added to GDP        4548  \n",
       "4                                     Arable land area        4101  \n",
       "..                                                 ...         ...  \n",
       "167                  Total water withdrawal per capita        4257  \n",
       "168  Treated municipal wastewater discharged (secon...        4510  \n",
       "169                                   Urban population        4106  \n",
       "170  Urban population with access to safe drinking-...        4116  \n",
       "171          Water resources: total external renewable        4182  \n",
       "\n",
       "[172 rows x 4 columns]"
      ]
     },
     "execution_count": 18,
     "metadata": {},
     "output_type": "execute_result"
    }
   ],
   "source": [
    "pd.DataFrame.from_records([x.to_dict() for x in concepts.values() if x.concept_type == 'measure'])"
   ]
  },
  {
   "cell_type": "code",
   "execution_count": 19,
   "metadata": {},
   "outputs": [],
   "source": [
    "cdf = pd.DataFrame.from_records([x.to_dict() for x in concepts.values() if x.concept_type == 'measure'])"
   ]
  },
  {
   "cell_type": "code",
   "execution_count": 20,
   "metadata": {},
   "outputs": [
    {
     "data": {
      "text/html": [
       "<div>\n",
       "<style scoped>\n",
       "    .dataframe tbody tr th:only-of-type {\n",
       "        vertical-align: middle;\n",
       "    }\n",
       "\n",
       "    .dataframe tbody tr th {\n",
       "        vertical-align: top;\n",
       "    }\n",
       "\n",
       "    .dataframe thead th {\n",
       "        text-align: right;\n",
       "    }\n",
       "</style>\n",
       "<table border=\"1\" class=\"dataframe\">\n",
       "  <thead>\n",
       "    <tr style=\"text-align: right;\">\n",
       "      <th></th>\n",
       "      <th>concept</th>\n",
       "      <th>concept_type</th>\n",
       "      <th>name</th>\n",
       "      <th>variable_id</th>\n",
       "    </tr>\n",
       "  </thead>\n",
       "  <tbody>\n",
       "    <tr>\n",
       "      <th>12</th>\n",
       "      <td>area_equipped_for_irrigation_by_direct_use_of_...</td>\n",
       "      <td>measure</td>\n",
       "      <td>Area equipped for irrigation by direct use of ...</td>\n",
       "      <td>4533</td>\n",
       "    </tr>\n",
       "  </tbody>\n",
       "</table>\n",
       "</div>"
      ],
      "text/plain": [
       "                                              concept concept_type  \\\n",
       "12  area_equipped_for_irrigation_by_direct_use_of_...      measure   \n",
       "\n",
       "                                                 name variable_id  \n",
       "12  Area equipped for irrigation by direct use of ...        4533  "
      ]
     },
     "execution_count": 20,
     "metadata": {},
     "output_type": "execute_result"
    }
   ],
   "source": [
    "cdf[cdf.concept == 'area_equipped_for_irrigation_by_direct_use_of_treated_municipal_wastewater']"
   ]
  },
  {
   "cell_type": "code",
   "execution_count": 21,
   "metadata": {},
   "outputs": [],
   "source": [
    "cdf = cdf.set_index('concept')"
   ]
  },
  {
   "cell_type": "code",
   "execution_count": null,
   "metadata": {},
   "outputs": [],
   "source": []
  },
  {
   "cell_type": "code",
   "execution_count": 22,
   "metadata": {},
   "outputs": [],
   "source": [
    "cdf.loc['municipal_water_withdrawal_per_captia'] = ['measure', 'Municipal Water Withdrawal Per Captia', '']"
   ]
  },
  {
   "cell_type": "code",
   "execution_count": null,
   "metadata": {},
   "outputs": [],
   "source": []
  },
  {
   "cell_type": "code",
   "execution_count": 23,
   "metadata": {},
   "outputs": [],
   "source": [
    "cdf.sort_index().to_csv('../../ddf--concepts--continuous.csv')"
   ]
  },
  {
   "cell_type": "code",
   "execution_count": null,
   "metadata": {},
   "outputs": [],
   "source": []
  },
  {
   "cell_type": "code",
   "execution_count": null,
   "metadata": {},
   "outputs": [],
   "source": []
  }
 ],
 "metadata": {
  "kernelspec": {
   "display_name": "Python 3",
   "language": "python",
   "name": "python3"
  },
  "language_info": {
   "codemirror_mode": {
    "name": "ipython",
    "version": 3
   },
   "file_extension": ".py",
   "mimetype": "text/x-python",
   "name": "python",
   "nbconvert_exporter": "python",
   "pygments_lexer": "ipython3",
   "version": "3.9.4"
  }
 },
 "nbformat": 4,
 "nbformat_minor": 2
}
